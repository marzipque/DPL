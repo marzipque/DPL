{
 "cells": [
  {
   "cell_type": "markdown",
   "id": "9ba8063f-ef0b-4d9a-8411-52f57629272e",
   "metadata": {},
   "source": [
    "# Лабораторная работа №4"
   ]
  },
  {
   "cell_type": "markdown",
   "id": "e7d9d7f9-05c3-462f-8d56-f02d4d22368a",
   "metadata": {},
   "source": [
    "## Подготовка входных данных"
   ]
  },
  {
   "cell_type": "code",
   "execution_count": 30,
   "id": "7e505018-2c40-454b-a1f8-1d5056a6ad25",
   "metadata": {},
   "outputs": [],
   "source": [
    "import pandas as pd\n",
    "\n",
    "from sklearn.preprocessing import MinMaxScaler\n",
    "from sklearn.model_selection import train_test_split\n",
    "from sklearn.model_selection import GridSearchCV\n",
    "from sklearn import metrics"
   ]
  },
  {
   "cell_type": "code",
   "execution_count": 31,
   "id": "a19774a7-aa8a-4f96-962f-76c4ce46f904",
   "metadata": {},
   "outputs": [],
   "source": [
    "dataset = pd.read_csv('Australia Rainfall.csv', delimiter=',').sample(50000)"
   ]
  },
  {
   "cell_type": "code",
   "execution_count": 32,
   "id": "b0d431c5-986a-4de3-81da-61a73541a2fc",
   "metadata": {},
   "outputs": [],
   "source": [
    "X = dataset.drop(columns=['Evaporation', 'Sunshine', 'Date', 'Cloud9am', 'Cloud3pm'])\n",
    "X.dropna(inplace=True)"
   ]
  },
  {
   "cell_type": "code",
   "execution_count": 34,
   "id": "4bc6d024-b0fc-4e4b-9993-31686c857199",
   "metadata": {},
   "outputs": [
    {
     "data": {
      "text/html": [
       "<div>\n",
       "<style scoped>\n",
       "    .dataframe tbody tr th:only-of-type {\n",
       "        vertical-align: middle;\n",
       "    }\n",
       "\n",
       "    .dataframe tbody tr th {\n",
       "        vertical-align: top;\n",
       "    }\n",
       "\n",
       "    .dataframe thead th {\n",
       "        text-align: right;\n",
       "    }\n",
       "</style>\n",
       "<table border=\"1\" class=\"dataframe\">\n",
       "  <thead>\n",
       "    <tr style=\"text-align: right;\">\n",
       "      <th></th>\n",
       "      <th>Location</th>\n",
       "      <th>MinTemp</th>\n",
       "      <th>MaxTemp</th>\n",
       "      <th>Rainfall</th>\n",
       "      <th>WindGustDir</th>\n",
       "      <th>WindGustSpeed</th>\n",
       "      <th>WindDir9am</th>\n",
       "      <th>WindDir3pm</th>\n",
       "      <th>WindSpeed9am</th>\n",
       "      <th>WindSpeed3pm</th>\n",
       "      <th>Humidity9am</th>\n",
       "      <th>Humidity3pm</th>\n",
       "      <th>Pressure9am</th>\n",
       "      <th>Pressure3pm</th>\n",
       "      <th>Temp9am</th>\n",
       "      <th>Temp3pm</th>\n",
       "      <th>RainToday</th>\n",
       "      <th>RainTomorrow</th>\n",
       "    </tr>\n",
       "  </thead>\n",
       "  <tbody>\n",
       "    <tr>\n",
       "      <th>113780</th>\n",
       "      <td>0</td>\n",
       "      <td>13.2</td>\n",
       "      <td>25.7</td>\n",
       "      <td>0.0</td>\n",
       "      <td>0</td>\n",
       "      <td>39.0</td>\n",
       "      <td>0</td>\n",
       "      <td>0</td>\n",
       "      <td>15.0</td>\n",
       "      <td>24.0</td>\n",
       "      <td>72.0</td>\n",
       "      <td>57.0</td>\n",
       "      <td>1020.1</td>\n",
       "      <td>1017.3</td>\n",
       "      <td>18.8</td>\n",
       "      <td>23.2</td>\n",
       "      <td>False</td>\n",
       "      <td>False</td>\n",
       "    </tr>\n",
       "    <tr>\n",
       "      <th>38968</th>\n",
       "      <td>1</td>\n",
       "      <td>14.9</td>\n",
       "      <td>31.4</td>\n",
       "      <td>0.0</td>\n",
       "      <td>1</td>\n",
       "      <td>33.0</td>\n",
       "      <td>1</td>\n",
       "      <td>1</td>\n",
       "      <td>22.0</td>\n",
       "      <td>9.0</td>\n",
       "      <td>42.0</td>\n",
       "      <td>22.0</td>\n",
       "      <td>1024.5</td>\n",
       "      <td>1019.8</td>\n",
       "      <td>21.0</td>\n",
       "      <td>29.5</td>\n",
       "      <td>False</td>\n",
       "      <td>False</td>\n",
       "    </tr>\n",
       "    <tr>\n",
       "      <th>62045</th>\n",
       "      <td>2</td>\n",
       "      <td>2.3</td>\n",
       "      <td>14.1</td>\n",
       "      <td>0.4</td>\n",
       "      <td>2</td>\n",
       "      <td>17.0</td>\n",
       "      <td>2</td>\n",
       "      <td>0</td>\n",
       "      <td>9.0</td>\n",
       "      <td>13.0</td>\n",
       "      <td>99.0</td>\n",
       "      <td>72.0</td>\n",
       "      <td>1029.8</td>\n",
       "      <td>1027.3</td>\n",
       "      <td>5.5</td>\n",
       "      <td>12.8</td>\n",
       "      <td>False</td>\n",
       "      <td>False</td>\n",
       "    </tr>\n",
       "    <tr>\n",
       "      <th>134750</th>\n",
       "      <td>3</td>\n",
       "      <td>11.4</td>\n",
       "      <td>18.0</td>\n",
       "      <td>9.2</td>\n",
       "      <td>3</td>\n",
       "      <td>52.0</td>\n",
       "      <td>3</td>\n",
       "      <td>2</td>\n",
       "      <td>20.0</td>\n",
       "      <td>15.0</td>\n",
       "      <td>84.0</td>\n",
       "      <td>65.0</td>\n",
       "      <td>1010.1</td>\n",
       "      <td>1007.1</td>\n",
       "      <td>14.4</td>\n",
       "      <td>16.6</td>\n",
       "      <td>True</td>\n",
       "      <td>True</td>\n",
       "    </tr>\n",
       "    <tr>\n",
       "      <th>143182</th>\n",
       "      <td>4</td>\n",
       "      <td>22.6</td>\n",
       "      <td>33.6</td>\n",
       "      <td>0.0</td>\n",
       "      <td>2</td>\n",
       "      <td>46.0</td>\n",
       "      <td>0</td>\n",
       "      <td>1</td>\n",
       "      <td>17.0</td>\n",
       "      <td>26.0</td>\n",
       "      <td>53.0</td>\n",
       "      <td>40.0</td>\n",
       "      <td>1020.1</td>\n",
       "      <td>1015.8</td>\n",
       "      <td>26.2</td>\n",
       "      <td>33.0</td>\n",
       "      <td>False</td>\n",
       "      <td>False</td>\n",
       "    </tr>\n",
       "    <tr>\n",
       "      <th>...</th>\n",
       "      <td>...</td>\n",
       "      <td>...</td>\n",
       "      <td>...</td>\n",
       "      <td>...</td>\n",
       "      <td>...</td>\n",
       "      <td>...</td>\n",
       "      <td>...</td>\n",
       "      <td>...</td>\n",
       "      <td>...</td>\n",
       "      <td>...</td>\n",
       "      <td>...</td>\n",
       "      <td>...</td>\n",
       "      <td>...</td>\n",
       "      <td>...</td>\n",
       "      <td>...</td>\n",
       "      <td>...</td>\n",
       "      <td>...</td>\n",
       "      <td>...</td>\n",
       "    </tr>\n",
       "    <tr>\n",
       "      <th>42745</th>\n",
       "      <td>18</td>\n",
       "      <td>11.4</td>\n",
       "      <td>15.6</td>\n",
       "      <td>4.6</td>\n",
       "      <td>0</td>\n",
       "      <td>41.0</td>\n",
       "      <td>11</td>\n",
       "      <td>12</td>\n",
       "      <td>19.0</td>\n",
       "      <td>19.0</td>\n",
       "      <td>74.0</td>\n",
       "      <td>88.0</td>\n",
       "      <td>1028.0</td>\n",
       "      <td>1027.6</td>\n",
       "      <td>13.1</td>\n",
       "      <td>14.2</td>\n",
       "      <td>True</td>\n",
       "      <td>True</td>\n",
       "    </tr>\n",
       "    <tr>\n",
       "      <th>20203</th>\n",
       "      <td>15</td>\n",
       "      <td>19.3</td>\n",
       "      <td>23.5</td>\n",
       "      <td>3.0</td>\n",
       "      <td>15</td>\n",
       "      <td>43.0</td>\n",
       "      <td>13</td>\n",
       "      <td>13</td>\n",
       "      <td>28.0</td>\n",
       "      <td>22.0</td>\n",
       "      <td>94.0</td>\n",
       "      <td>86.0</td>\n",
       "      <td>1014.8</td>\n",
       "      <td>1013.2</td>\n",
       "      <td>19.6</td>\n",
       "      <td>21.7</td>\n",
       "      <td>True</td>\n",
       "      <td>True</td>\n",
       "    </tr>\n",
       "    <tr>\n",
       "      <th>138845</th>\n",
       "      <td>10</td>\n",
       "      <td>9.7</td>\n",
       "      <td>24.9</td>\n",
       "      <td>0.0</td>\n",
       "      <td>0</td>\n",
       "      <td>37.0</td>\n",
       "      <td>8</td>\n",
       "      <td>12</td>\n",
       "      <td>22.0</td>\n",
       "      <td>13.0</td>\n",
       "      <td>10.0</td>\n",
       "      <td>7.0</td>\n",
       "      <td>1017.6</td>\n",
       "      <td>1013.6</td>\n",
       "      <td>17.5</td>\n",
       "      <td>23.2</td>\n",
       "      <td>False</td>\n",
       "      <td>False</td>\n",
       "    </tr>\n",
       "    <tr>\n",
       "      <th>38340</th>\n",
       "      <td>1</td>\n",
       "      <td>13.2</td>\n",
       "      <td>20.9</td>\n",
       "      <td>1.4</td>\n",
       "      <td>8</td>\n",
       "      <td>48.0</td>\n",
       "      <td>10</td>\n",
       "      <td>5</td>\n",
       "      <td>28.0</td>\n",
       "      <td>26.0</td>\n",
       "      <td>62.0</td>\n",
       "      <td>35.0</td>\n",
       "      <td>1007.9</td>\n",
       "      <td>1008.1</td>\n",
       "      <td>15.2</td>\n",
       "      <td>18.7</td>\n",
       "      <td>True</td>\n",
       "      <td>False</td>\n",
       "    </tr>\n",
       "    <tr>\n",
       "      <th>111915</th>\n",
       "      <td>0</td>\n",
       "      <td>7.2</td>\n",
       "      <td>19.0</td>\n",
       "      <td>0.0</td>\n",
       "      <td>3</td>\n",
       "      <td>59.0</td>\n",
       "      <td>0</td>\n",
       "      <td>0</td>\n",
       "      <td>28.0</td>\n",
       "      <td>33.0</td>\n",
       "      <td>51.0</td>\n",
       "      <td>51.0</td>\n",
       "      <td>1029.3</td>\n",
       "      <td>1026.6</td>\n",
       "      <td>14.8</td>\n",
       "      <td>17.6</td>\n",
       "      <td>False</td>\n",
       "      <td>False</td>\n",
       "    </tr>\n",
       "  </tbody>\n",
       "</table>\n",
       "<p>38773 rows × 18 columns</p>\n",
       "</div>"
      ],
      "text/plain": [
       "        Location  MinTemp  MaxTemp  Rainfall  WindGustDir  WindGustSpeed  \\\n",
       "113780         0     13.2     25.7       0.0            0           39.0   \n",
       "38968          1     14.9     31.4       0.0            1           33.0   \n",
       "62045          2      2.3     14.1       0.4            2           17.0   \n",
       "134750         3     11.4     18.0       9.2            3           52.0   \n",
       "143182         4     22.6     33.6       0.0            2           46.0   \n",
       "...          ...      ...      ...       ...          ...            ...   \n",
       "42745         18     11.4     15.6       4.6            0           41.0   \n",
       "20203         15     19.3     23.5       3.0           15           43.0   \n",
       "138845        10      9.7     24.9       0.0            0           37.0   \n",
       "38340          1     13.2     20.9       1.4            8           48.0   \n",
       "111915         0      7.2     19.0       0.0            3           59.0   \n",
       "\n",
       "        WindDir9am  WindDir3pm  WindSpeed9am  WindSpeed3pm  Humidity9am  \\\n",
       "113780           0           0          15.0          24.0         72.0   \n",
       "38968            1           1          22.0           9.0         42.0   \n",
       "62045            2           0           9.0          13.0         99.0   \n",
       "134750           3           2          20.0          15.0         84.0   \n",
       "143182           0           1          17.0          26.0         53.0   \n",
       "...            ...         ...           ...           ...          ...   \n",
       "42745           11          12          19.0          19.0         74.0   \n",
       "20203           13          13          28.0          22.0         94.0   \n",
       "138845           8          12          22.0          13.0         10.0   \n",
       "38340           10           5          28.0          26.0         62.0   \n",
       "111915           0           0          28.0          33.0         51.0   \n",
       "\n",
       "        Humidity3pm  Pressure9am  Pressure3pm  Temp9am  Temp3pm  RainToday  \\\n",
       "113780         57.0       1020.1       1017.3     18.8     23.2      False   \n",
       "38968          22.0       1024.5       1019.8     21.0     29.5      False   \n",
       "62045          72.0       1029.8       1027.3      5.5     12.8      False   \n",
       "134750         65.0       1010.1       1007.1     14.4     16.6       True   \n",
       "143182         40.0       1020.1       1015.8     26.2     33.0      False   \n",
       "...             ...          ...          ...      ...      ...        ...   \n",
       "42745          88.0       1028.0       1027.6     13.1     14.2       True   \n",
       "20203          86.0       1014.8       1013.2     19.6     21.7       True   \n",
       "138845          7.0       1017.6       1013.6     17.5     23.2      False   \n",
       "38340          35.0       1007.9       1008.1     15.2     18.7       True   \n",
       "111915         51.0       1029.3       1026.6     14.8     17.6      False   \n",
       "\n",
       "        RainTomorrow  \n",
       "113780         False  \n",
       "38968          False  \n",
       "62045          False  \n",
       "134750          True  \n",
       "143182         False  \n",
       "...              ...  \n",
       "42745           True  \n",
       "20203           True  \n",
       "138845         False  \n",
       "38340          False  \n",
       "111915         False  \n",
       "\n",
       "[38773 rows x 18 columns]"
      ]
     },
     "execution_count": 34,
     "metadata": {},
     "output_type": "execute_result"
    }
   ],
   "source": [
    "locations = X['Location'].unique()\n",
    "X['Location'] = X['Location'].map({value: i for i, value in enumerate(locations)})\n",
    "\n",
    "X['RainToday'] = X['RainToday'].map({'No': False, 'Yes': True})\n",
    "X['RainTomorrow'] = X['RainTomorrow'].map({'No': False, 'Yes': True})\n",
    "\n",
    "wgds = X['WindGustDir'].unique()\n",
    "X['WindGustDir'] = X['WindGustDir'].map({value: i for i, value in enumerate(wgds)})\n",
    "\n",
    "wd9s = X['WindDir9am'].unique()\n",
    "X['WindDir9am'] = X['WindDir9am'].map({value: i for i, value in enumerate(wd9s)})\n",
    "\n",
    "wd9s = X['WindDir3pm'].unique()\n",
    "X['WindDir3pm'] = X['WindDir3pm'].map({value: i for i, value in enumerate(wd9s)})\n",
    "X"
   ]
  },
  {
   "cell_type": "code",
   "execution_count": 37,
   "id": "445bc18a-ee32-43af-b66a-6f68fe842bc8",
   "metadata": {},
   "outputs": [],
   "source": [
    "y = X['RainTomorrow']\n",
    "X = X.drop('RainTomorrow', axis=1)"
   ]
  },
  {
   "cell_type": "code",
   "execution_count": 40,
   "id": "319e9f8d-ade7-4af9-8fe5-632f0f7c412e",
   "metadata": {},
   "outputs": [],
   "source": [
    "scaler = MinMaxScaler()\n",
    "X_ans = scaler.fit_transform(X)"
   ]
  },
  {
   "cell_type": "code",
   "execution_count": 42,
   "id": "ad050beb-e421-418e-8f4c-c990b0733cf3",
   "metadata": {},
   "outputs": [],
   "source": [
    "X_train, X_test, y_train, y_test = train_test_split(X_ans, y, test_size=0.3)"
   ]
  },
  {
   "cell_type": "markdown",
   "id": "6ba3b821-6761-4d72-ba5f-bc547240ff57",
   "metadata": {},
   "source": [
    "## Задание 1"
   ]
  },
  {
   "cell_type": "markdown",
   "id": "0b2d62f4-1c5a-4072-a93d-18f67a731f35",
   "metadata": {},
   "source": [
    "Провести классификацию найденного датасета, методами наивного Байеса. В формате Markdown написать пояснения. Объяснить почему были выбраны именно такие гиперпараметры, была ли перекрестная проверка, и т.д."
   ]
  },
  {
   "cell_type": "code",
   "execution_count": 55,
   "id": "b445c930-8e4e-41ee-b113-fb5bd7c7d095",
   "metadata": {},
   "outputs": [],
   "source": [
    "import numpy as np\n",
    "\n",
    "import sklearn.naive_bayes"
   ]
  },
  {
   "cell_type": "markdown",
   "id": "9fc2f58c-9ba1-40ca-9c84-93ac25c1fc86",
   "metadata": {},
   "source": [
    "### Гауссовский наивный Байес"
   ]
  },
  {
   "cell_type": "code",
   "execution_count": 58,
   "id": "8e31ec6a-c6da-4a7b-b7f2-7983fa60f97a",
   "metadata": {},
   "outputs": [
    {
     "name": "stdout",
     "output_type": "stream",
     "text": [
      "Fitting 2 folds for each of 100 candidates, totalling 200 fits\n"
     ]
    }
   ],
   "source": [
    "gaussian_classifier = sklearn.naive_bayes.GaussianNB()\n",
    "gaussian_params ={\n",
    "    'var_smoothing': np.geomspace(1e-10,1e10,num=100)\n",
    "}\n",
    "gaussian_grid = GridSearchCV(gaussian_classifier, gaussian_params, cv=2, n_jobs=-1,verbose=3)\n",
    "gaussian_grid.fit(X_train, y_train)\n",
    "best_gaussian_params = gaussian_grid.best_params_"
   ]
  },
  {
   "cell_type": "code",
   "execution_count": 59,
   "id": "607c3981-2452-47be-97c5-b6a99b706701",
   "metadata": {},
   "outputs": [
    {
     "name": "stdout",
     "output_type": "stream",
     "text": [
      "Used params: {'var_smoothing': 0.7924828983539186}\n",
      "Evaluation:\n",
      "               precision    recall  f1-score   support\n",
      "\n",
      "       False    0.81867   0.98110   0.89255      9047\n",
      "        True    0.78354   0.23946   0.36681      2585\n",
      "\n",
      "    accuracy                        0.81628     11632\n",
      "   macro avg    0.80111   0.61028   0.62968     11632\n",
      "weighted avg    0.81086   0.81628   0.77572     11632\n",
      "\n"
     ]
    }
   ],
   "source": [
    "best_gaussian_model = sklearn.naive_bayes.GaussianNB(**best_gaussian_params)\n",
    "best_gaussian_model.fit(X_train, y_train)\n",
    "gaussian_predicted = best_gaussian_model.predict(X_test)\n",
    "print('Used params:',best_gaussian_params)\n",
    "print('Evaluation:\\n', metrics.classification_report(y_test, gaussian_predicted,digits=5))"
   ]
  },
  {
   "cell_type": "markdown",
   "id": "54cb7791-cbdd-4407-995e-8d21ea25e4f6",
   "metadata": {},
   "source": [
    "### Мультиномиальный наивный Байес"
   ]
  },
  {
   "cell_type": "code",
   "execution_count": 61,
   "id": "42049b38-9fe5-4f44-83d2-396f1e5e5024",
   "metadata": {},
   "outputs": [
    {
     "name": "stdout",
     "output_type": "stream",
     "text": [
      "Fitting 2 folds for each of 100 candidates, totalling 200 fits\n"
     ]
    }
   ],
   "source": [
    "classifier = sklearn.naive_bayes.MultinomialNB()\n",
    "params ={\n",
    "    'alpha': np.geomspace(1e-10,1e10,num=100)\n",
    "}\n",
    "grid = GridSearchCV(classifier, params, cv=2, n_jobs=-1,verbose=3)\n",
    "grid.fit(X_train, y_train)\n",
    "best_params = grid.best_params_"
   ]
  },
  {
   "cell_type": "code",
   "execution_count": 62,
   "id": "4cc6fa1e-bc3c-4d7d-9ebb-e997a81e4a18",
   "metadata": {},
   "outputs": [
    {
     "name": "stdout",
     "output_type": "stream",
     "text": [
      "Used params: {'alpha': 1e-10}\n",
      "Evaluation:\n",
      "               precision    recall  f1-score   support\n",
      "\n",
      "       False    0.77932   0.99967   0.87585      9047\n",
      "        True    0.88889   0.00928   0.01838      2585\n",
      "\n",
      "    accuracy                        0.77957     11632\n",
      "   macro avg    0.83410   0.50448   0.44711     11632\n",
      "weighted avg    0.80367   0.77957   0.68529     11632\n",
      "\n"
     ]
    }
   ],
   "source": [
    "best_model = sklearn.naive_bayes.MultinomialNB(**best_params)\n",
    "best_model.fit(X_train, y_train)\n",
    "predicted = best_model.predict(X_test)\n",
    "print('Used params:',best_params)\n",
    "print('Evaluation:\\n', metrics.classification_report(y_test, predicted,digits=5))"
   ]
  },
  {
   "cell_type": "markdown",
   "id": "d9900759-6376-4a69-94ed-9a884dca8be6",
   "metadata": {},
   "source": [
    "### Комплементарный наивный Байес"
   ]
  },
  {
   "cell_type": "code",
   "execution_count": 64,
   "id": "68c5fe59-d46e-417f-bc51-8e1e2a8b1536",
   "metadata": {},
   "outputs": [
    {
     "name": "stdout",
     "output_type": "stream",
     "text": [
      "Fitting 2 folds for each of 100 candidates, totalling 200 fits\n"
     ]
    }
   ],
   "source": [
    "classifier = sklearn.naive_bayes.ComplementNB()\n",
    "params ={\n",
    "    'alpha': np.geomspace(1e-10,1e10,num=100)\n",
    "}\n",
    "grid = GridSearchCV(classifier, params, cv=2, n_jobs=-1,verbose=3)\n",
    "grid.fit(X_train, y_train)\n",
    "best_params = grid.best_params_"
   ]
  },
  {
   "cell_type": "code",
   "execution_count": 65,
   "id": "0bc0f788-a32f-4ee8-b399-e92f8ba407c7",
   "metadata": {},
   "outputs": [
    {
     "name": "stdout",
     "output_type": "stream",
     "text": [
      "Used params: {'alpha': 8697.490026177835}\n",
      "Evaluation:\n",
      "               precision    recall  f1-score   support\n",
      "\n",
      "       False    0.82729   0.91279   0.86794      9047\n",
      "        True    0.52182   0.33308   0.40661      2585\n",
      "\n",
      "    accuracy                        0.78396     11632\n",
      "   macro avg    0.67455   0.62293   0.63727     11632\n",
      "weighted avg    0.75940   0.78396   0.76542     11632\n",
      "\n"
     ]
    }
   ],
   "source": [
    "best_model = sklearn.naive_bayes.ComplementNB(**best_params)\n",
    "best_model.fit(X_train, y_train)\n",
    "predicted = best_model.predict(X_test)\n",
    "print('Used params:',best_params)\n",
    "print('Evaluation:\\n', metrics.classification_report(y_test, predicted,digits=5))"
   ]
  },
  {
   "cell_type": "markdown",
   "id": "ecedb4f1-f726-454e-8602-51928d9c0314",
   "metadata": {},
   "source": [
    "### Бернуллиевский наивный Байес"
   ]
  },
  {
   "cell_type": "code",
   "execution_count": 67,
   "id": "0d30511e-e42d-40d5-b3e4-1688cf73808a",
   "metadata": {},
   "outputs": [
    {
     "name": "stdout",
     "output_type": "stream",
     "text": [
      "Fitting 2 folds for each of 100 candidates, totalling 200 fits\n"
     ]
    }
   ],
   "source": [
    "classifier = sklearn.naive_bayes.BernoulliNB()\n",
    "params ={\n",
    "    'alpha': np.geomspace(1e-10,1e10,num=100)\n",
    "}\n",
    "grid = GridSearchCV(classifier, params, cv=2, n_jobs=-1,verbose=3)\n",
    "grid.fit(X_train, y_train)\n",
    "best_params = grid.best_params_"
   ]
  },
  {
   "cell_type": "code",
   "execution_count": 70,
   "id": "4647c999-f6d7-455c-b7ba-35be422e36bf",
   "metadata": {},
   "outputs": [
    {
     "name": "stdout",
     "output_type": "stream",
     "text": [
      "Used params: {'alpha': 1353.0477745798075}\n",
      "Evaluation:\n",
      "               precision    recall  f1-score   support\n",
      "\n",
      "       False    0.77796   0.99878   0.87465      9047\n",
      "        True    0.35294   0.00232   0.00461      2585\n",
      "\n",
      "    accuracy                        0.77734     11632\n",
      "   macro avg    0.56545   0.50055   0.43963     11632\n",
      "weighted avg    0.68351   0.77734   0.68130     11632\n",
      "\n"
     ]
    }
   ],
   "source": [
    "best_model = sklearn.naive_bayes.BernoulliNB(**best_params)\n",
    "best_model.fit(X_train, y_train)\n",
    "predicted = best_model.predict(X_test)\n",
    "print('Used params:',best_params)\n",
    "print('Evaluation:\\n', metrics.classification_report(y_test, predicted,digits=5))"
   ]
  },
  {
   "cell_type": "markdown",
   "id": "eb89eb76-be5e-4727-8476-f172e0a8e366",
   "metadata": {},
   "source": [
    "### Категориальный наивный Байес"
   ]
  },
  {
   "cell_type": "code",
   "execution_count": 74,
   "id": "7819a7e1-196a-48ff-bbd9-eb2c3004db64",
   "metadata": {},
   "outputs": [
    {
     "name": "stdout",
     "output_type": "stream",
     "text": [
      "Fitting 2 folds for each of 100 candidates, totalling 200 fits\n"
     ]
    }
   ],
   "source": [
    "classifier = sklearn.naive_bayes.CategoricalNB()\n",
    "params ={\n",
    "    'alpha': np.geomspace(1e-10,1e10,num=100),\n",
    "    'min_categories':[2]\n",
    "}\n",
    "grid = GridSearchCV(classifier, params, cv=2, n_jobs=-1,verbose=3)\n",
    "grid.fit(X_train, y_train)\n",
    "best_params = grid.best_params_"
   ]
  },
  {
   "cell_type": "code",
   "execution_count": 76,
   "id": "b7e2baba-f71a-4211-94c9-2bb3fbbe27e3",
   "metadata": {},
   "outputs": [
    {
     "name": "stdout",
     "output_type": "stream",
     "text": [
      "Used params: {'alpha': 1e-10, 'min_categories': 2}\n",
      "Evaluation:\n",
      "               precision    recall  f1-score   support\n",
      "\n",
      "       False    0.78360   0.99259   0.87580      9047\n",
      "        True    0.61047   0.04062   0.07617      2585\n",
      "\n",
      "    accuracy                        0.78104     11632\n",
      "   macro avg    0.69703   0.51661   0.47598     11632\n",
      "weighted avg    0.74512   0.78104   0.69810     11632\n",
      "\n"
     ]
    }
   ],
   "source": [
    "best_model = sklearn.naive_bayes.CategoricalNB(**best_params)\n",
    "best_model.fit(X_train, y_train)\n",
    "predicted = best_model.predict(X_test)\n",
    "print('Used params:',best_params)\n",
    "print('Evaluation:\\n', metrics.classification_report(y_test, predicted,digits=5))"
   ]
  }
 ],
 "metadata": {
  "kernelspec": {
   "display_name": "Python 3 (ipykernel)",
   "language": "python",
   "name": "python3"
  },
  "language_info": {
   "codemirror_mode": {
    "name": "ipython",
    "version": 3
   },
   "file_extension": ".py",
   "mimetype": "text/x-python",
   "name": "python",
   "nbconvert_exporter": "python",
   "pygments_lexer": "ipython3",
   "version": "3.12.4"
  }
 },
 "nbformat": 4,
 "nbformat_minor": 5
}

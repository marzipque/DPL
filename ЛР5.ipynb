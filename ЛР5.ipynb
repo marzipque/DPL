{
 "cells": [
  {
   "cell_type": "markdown",
   "id": "906cf49e-c191-4616-b08f-dea6c95f7eaa",
   "metadata": {},
   "source": [
    "# Лабораторная работа №5"
   ]
  },
  {
   "cell_type": "markdown",
   "id": "c39becf2-4ea0-4e7f-9511-68c9cfdb95d2",
   "metadata": {},
   "source": [
    "## Подготовка данных"
   ]
  },
  {
   "cell_type": "code",
   "execution_count": 5,
   "id": "b439a834-6c48-4b0a-94e2-757ea00787ff",
   "metadata": {},
   "outputs": [],
   "source": [
    "import pandas as pd\n",
    "\n",
    "from sklearn.preprocessing import MinMaxScaler\n",
    "from sklearn.model_selection import train_test_split\n",
    "from sklearn.model_selection import GridSearchCV\n",
    "from sklearn import metrics"
   ]
  },
  {
   "cell_type": "code",
   "execution_count": 6,
   "id": "6d8f01f5-66bd-4ec8-b2fe-748438b4b62e",
   "metadata": {},
   "outputs": [],
   "source": [
    "dataset = pd.read_csv('Australia Rainfall.csv', delimiter=',').sample(50000)"
   ]
  },
  {
   "cell_type": "code",
   "execution_count": 7,
   "id": "931b7492-0b60-475b-afda-b31cf56ea0e7",
   "metadata": {},
   "outputs": [],
   "source": [
    "X = dataset.drop(columns=['Evaporation', 'Sunshine', 'Date', 'Cloud9am', 'Cloud3pm'])\n",
    "X.dropna(inplace=True)"
   ]
  },
  {
   "cell_type": "code",
   "execution_count": 8,
   "id": "5a755694-e93f-47ca-bcab-9b3de497c38e",
   "metadata": {},
   "outputs": [],
   "source": [
    "locations = X['Location'].unique()\n",
    "X['Location'] = X['Location'].map({value: i for i, value in enumerate(locations)})\n",
    "\n",
    "X['RainToday'] = X['RainToday'].map({'No': False, 'Yes': True})\n",
    "X['RainTomorrow'] = X['RainTomorrow'].map({'No': False, 'Yes': True})\n",
    "\n",
    "wgds = X['WindGustDir'].unique()\n",
    "X['WindGustDir'] = X['WindGustDir'].map({value: i for i, value in enumerate(wgds)})\n",
    "\n",
    "wd9s = X['WindDir9am'].unique()\n",
    "X['WindDir9am'] = X['WindDir9am'].map({value: i for i, value in enumerate(wd9s)})\n",
    "\n",
    "wd9s = X['WindDir3pm'].unique()\n",
    "X['WindDir3pm'] = X['WindDir3pm'].map({value: i for i, value in enumerate(wd9s)})"
   ]
  },
  {
   "cell_type": "code",
   "execution_count": 9,
   "id": "75aef650-1d19-4cc3-8865-4204706545d8",
   "metadata": {},
   "outputs": [],
   "source": [
    "y = X['RainTomorrow']\n",
    "X = X.drop('RainTomorrow', axis=1)"
   ]
  },
  {
   "cell_type": "code",
   "execution_count": 11,
   "id": "518b32a9-b130-4a14-9389-56d2b30f0d09",
   "metadata": {},
   "outputs": [],
   "source": [
    "scaler = MinMaxScaler()\n",
    "X_ans = scaler.fit_transform(X)"
   ]
  },
  {
   "cell_type": "code",
   "execution_count": 13,
   "id": "eaf07b8a-1023-4a0e-8dec-cffefa388b7b",
   "metadata": {},
   "outputs": [],
   "source": [
    "X_train, X_test, y_train, y_test = train_test_split(X_ans, y, test_size=0.3)"
   ]
  },
  {
   "cell_type": "markdown",
   "id": "85906195-ce9d-41ce-8609-d46c68c56713",
   "metadata": {},
   "source": [
    "## Задание 1"
   ]
  },
  {
   "cell_type": "markdown",
   "id": "dd8900c9-4f08-42fe-b733-8fb73885d12e",
   "metadata": {},
   "source": [
    "Провести классификацию найденного датасета, методами решающего дерева и случайного леса . В формате Markdown написать пояснения. Объяснить почему были выбраны именно такие гиперпараметры, была ли перекрестная проверка, и т.д."
   ]
  },
  {
   "cell_type": "markdown",
   "id": "4c957b5d-c8da-4d1f-b704-8650ac71642f",
   "metadata": {},
   "source": [
    "### Дерево решений"
   ]
  },
  {
   "cell_type": "code",
   "execution_count": 22,
   "id": "91d5e174-cc34-47c4-ae4e-d3a25ff09e5c",
   "metadata": {},
   "outputs": [],
   "source": [
    "from sklearn.tree import DecisionTreeClassifier"
   ]
  },
  {
   "cell_type": "code",
   "execution_count": 24,
   "id": "74598b7c-bdc7-4cf5-aa06-b1e6a8f8a367",
   "metadata": {},
   "outputs": [
    {
     "name": "stdout",
     "output_type": "stream",
     "text": [
      "Fitting 2 folds for each of 594 candidates, totalling 1188 fits\n"
     ]
    }
   ],
   "source": [
    "des_tree_classifier = DecisionTreeClassifier()\n",
    "des_tree_params ={\n",
    "    \"criterion\": ['gini','entropy','log_loss'],\n",
    "    'splitter': ['best','random'],\n",
    "    'max_depth':range(1,100),\n",
    "}\n",
    "des_tree_grid = GridSearchCV(des_tree_classifier, des_tree_params, cv=2, n_jobs=-1,verbose=3)\n",
    "des_tree_grid.fit(X_train, y_train)\n",
    "best_des_tree_params = des_tree_grid.best_params_"
   ]
  },
  {
   "cell_type": "code",
   "execution_count": 25,
   "id": "965a82aa-d7f4-48df-bcb1-9fac44fd1b9d",
   "metadata": {},
   "outputs": [
    {
     "name": "stdout",
     "output_type": "stream",
     "text": [
      "Used params: {'criterion': 'entropy', 'max_depth': 5, 'splitter': 'best'}\n",
      "Evaluation:\n",
      "               precision    recall  f1-score   support\n",
      "\n",
      "       False    0.86402   0.93721   0.89913      9078\n",
      "        True    0.68404   0.47960   0.56386      2573\n",
      "\n",
      "    accuracy                        0.83615     11651\n",
      "   macro avg    0.77403   0.70840   0.73149     11651\n",
      "weighted avg    0.82427   0.83615   0.82509     11651\n",
      "\n"
     ]
    }
   ],
   "source": [
    "best_des_tree_model = DecisionTreeClassifier(**best_des_tree_params)\n",
    "best_des_tree_model.fit(X_train, y_train)\n",
    "des_tree_predicted = best_des_tree_model.predict(X_test)\n",
    "print('Used params:',best_des_tree_params)\n",
    "print('Evaluation:\\n', metrics.classification_report(y_test, des_tree_predicted,digits=5))"
   ]
  },
  {
   "cell_type": "markdown",
   "id": "1cfae88d-a0e2-4821-8306-aef7d98cd34a",
   "metadata": {},
   "source": [
    "### Случайный лес"
   ]
  },
  {
   "cell_type": "code",
   "execution_count": 27,
   "id": "43066612-2046-4843-8c25-56597b4269df",
   "metadata": {},
   "outputs": [],
   "source": [
    "import numpy as np\n",
    "\n",
    "from sklearn.ensemble import RandomForestClassifier"
   ]
  },
  {
   "cell_type": "code",
   "execution_count": 28,
   "id": "915a5104-132d-4141-89bc-56106f34b374",
   "metadata": {},
   "outputs": [
    {
     "name": "stdout",
     "output_type": "stream",
     "text": [
      "Fitting 2 folds for each of 2970 candidates, totalling 5940 fits\n"
     ]
    }
   ],
   "source": [
    "rand_forest_classifier = RandomForestClassifier()\n",
    "rand_forest_params ={\n",
    "    'n_estimators': np.geomspace(1,1e2,10,dtype=int),\n",
    "    'criterion': ['gini','entropy','log_loss'],\n",
    "    'max_depth':range(1,100)\n",
    "}\n",
    "rand_forest_grid = GridSearchCV(rand_forest_classifier, rand_forest_params, cv=2, n_jobs=-1,verbose=3)\n",
    "rand_forest_grid.fit(X_train, y_train)\n",
    "rand_forest_best_params = rand_forest_grid.best_params_"
   ]
  },
  {
   "cell_type": "code",
   "execution_count": 29,
   "id": "61e1e60e-c507-4827-a64e-a51ba7d16359",
   "metadata": {},
   "outputs": [
    {
     "name": "stdout",
     "output_type": "stream",
     "text": [
      "Used params: {'criterion': 'log_loss', 'max_depth': 66, 'n_estimators': 100}\n",
      "Evaluation:\n",
      "               precision    recall  f1-score   support\n",
      "\n",
      "       False    0.86772   0.94878   0.90644      9078\n",
      "        True    0.73043   0.48970   0.58632      2573\n",
      "\n",
      "    accuracy                        0.84740     11651\n",
      "   macro avg    0.79908   0.71924   0.74638     11651\n",
      "weighted avg    0.83740   0.84740   0.83575     11651\n",
      "\n"
     ]
    }
   ],
   "source": [
    "rand_forest_best_model = RandomForestClassifier(**rand_forest_best_params)\n",
    "rand_forest_best_model.fit(X_train, y_train)\n",
    "rand_forest_predicted = rand_forest_best_model.predict(X_test)\n",
    "print('Used params:',rand_forest_best_params)\n",
    "print('Evaluation:\\n', metrics.classification_report(y_test, rand_forest_predicted,digits=5))"
   ]
  }
 ],
 "metadata": {
  "kernelspec": {
   "display_name": "Python 3 (ipykernel)",
   "language": "python",
   "name": "python3"
  },
  "language_info": {
   "codemirror_mode": {
    "name": "ipython",
    "version": 3
   },
   "file_extension": ".py",
   "mimetype": "text/x-python",
   "name": "python",
   "nbconvert_exporter": "python",
   "pygments_lexer": "ipython3",
   "version": "3.12.4"
  }
 },
 "nbformat": 4,
 "nbformat_minor": 5
}
